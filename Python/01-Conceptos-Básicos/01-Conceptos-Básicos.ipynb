{
 "cells": [
  {
   "cell_type": "markdown",
   "metadata": {},
   "source": [
    "# Declaración de Variables \n",
    "### Demostración sobre la declaración de variables"
   ]
  },
  {
   "cell_type": "code",
   "execution_count": null,
   "metadata": {},
   "outputs": [],
   "source": [
    "# Declaración de las variables\n",
    "numero = 10\n",
    "Numero = 10\n",
    "saludo = \"Hola Mundo !!\""
   ]
  },
  {
   "cell_type": "code",
   "execution_count": null,
   "metadata": {},
   "outputs": [],
   "source": [
    "# Mostramos contenidos de las variables\n",
    "print(numero)\n",
    "print(Numero)\n",
    "print(saludo)"
   ]
  },
  {
   "cell_type": "code",
   "execution_count": null,
   "metadata": {},
   "outputs": [],
   "source": [
    "print(numero + Numero)\n",
    "print(numero - 25)\n",
    "print(\"Saludo: \" + saludo)\n",
    "\n",
    "print(36)\n",
    "print(\"En un lugar de la mancha de cuyo nombre ...\")\n",
    "print(\"En un lugar de la mancha\\nde cuyo nombre ...\")\n",
    "print(\"\")"
   ]
  },
  {
   "cell_type": "code",
   "execution_count": null,
   "metadata": {},
   "outputs": [],
   "source": [
    "# Mostrar el tipo de las variable\n",
    "print(type(numero))\n",
    "print(type(saludo))\n",
    "\n",
    "print(type(3))\n",
    "print(type(\"tres\"))\n",
    "print(type(\"3\"))\n",
    "print(type(3 == 3))\n",
    "print(type((\"1\", \"2\")))\n",
    "print(type([\"1\", \"2\"]))\n",
    "print(type({\"1\", \"2\"}))\n",
    "print(type([1, 2]))"
   ]
  }
 ],
 "metadata": {
  "kernelspec": {
   "display_name": "default",
   "language": "python",
   "name": "python3"
  },
  "language_info": {
   "codemirror_mode": {
    "name": "ipython",
    "version": 3
   },
   "file_extension": ".py",
   "mimetype": "text/x-python",
   "name": "python",
   "nbconvert_exporter": "python",
   "pygments_lexer": "ipython3",
   "version": "3.13.2"
  }
 },
 "nbformat": 4,
 "nbformat_minor": 2
}
